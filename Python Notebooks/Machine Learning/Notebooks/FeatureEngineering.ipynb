{
 "cells": [
  {
   "cell_type": "code",
   "execution_count": null,
   "metadata": {},
   "outputs": [],
   "source": [
    "from google.colab import files\n",
    "\n",
    "import numpy as np\n",
    "import pandas as pd\n",
    "\n",
    "from sklearn.model_selection import train_test_split\n",
    "from sklearn.ensemble import RandomForestClassifier\n",
    "\n",
    "import matplotlib.pyplot as plt\n",
    "\n",
    "pd.options.mode.chained_assignment = None"
   ]
  },
  {
   "cell_type": "code",
   "execution_count": null,
   "metadata": {},
   "outputs": [],
   "source": [
    "# upload file and read it in\n",
    "dataset = files.upload()\n",
    "df = pd.read_csv('records.csv')"
   ]
  },
  {
   "cell_type": "code",
   "execution_count": null,
   "metadata": {},
   "outputs": [],
   "source": [
    "# data manipulation.\n",
    "df['IsBuy'] = ''\n",
    "df['IsSell'] = ''\n",
    "\n",
    "df['IsMonday'] = ''\n",
    "df['IsTuesday'] = ''\n",
    "df['IsWednesday'] = ''\n",
    "df['IsThursday'] = ''\n",
    "df['IsFriday'] = ''\n",
    "\n",
    "df['LowNewsImpact'] = ''\n",
    "df['MediumNewsImpact'] = ''\n",
    "df['HighNewsImpact'] = ''\n",
    "df['HolidayNewsImpact'] = ''\n",
    "\n",
    "for i, row in df.iterrows():\n",
    "    df.at[i, 'IsBuy'] = 1 if row['Order Type'] == 'Buy' else 0\n",
    "    df.at[i, 'IsSell'] = 1 if row['Order Type'] == 'Sell' else 0\n",
    "\n",
    "    df.at[i, 'IsMonday'] = 1 if row['Day of Week'] == 1 else 0\n",
    "    df.at[i, 'IsTuesday'] = 1 if row['Day of Week'] == 2 else 0\n",
    "    df.at[i, 'IsWednesday'] = 1 if row['Day of Week'] == 3 else 0\n",
    "    df.at[i, 'IsThursday'] = 1 if row['Day of Week'] == 4 else 0\n",
    "    df.at[i, 'IsFriday'] = 1 if row['Day of Week'] == 5 else 0\n",
    "\n",
    "    df.at[i, 'LowNewsImpact'] = 1 if row['News Impact'] == 1 else 0\n",
    "    df.at[i, 'MediumNewsImpact'] = 1 if row['News Impact'] == 2 else 0\n",
    "    df.at[i, 'HighNewsImpact'] = 1 if row['News Impact'] == 3 else 0\n",
    "    df.at[i, 'HolidayNewsImpact'] = 1 if row['News Impact'] == 4 else 0\n"
   ]
  },
  {
   "cell_type": "code",
   "execution_count": null,
   "metadata": {},
   "outputs": [],
   "source": [
    "featureName = df.columns\n",
    "featuresToExclude = ['Order Type', 'Day of Week', 'News Impact', 'Outcome']\n",
    "\n",
    "labels = df[['Outcome']]\n",
    "labels.loc[labels['Outcome'] == 'Win', 'Outcome'] = 1\n",
    "labels.loc[labels['Outcome'] == 'Lose', 'Outcome'] = 0\n",
    "labels = labels.astype(int)\n",
    "\n",
    "features = df.drop(featuresToExclude, axis=1)\n",
    "features = pd.get_dummies(features)"
   ]
  },
  {
   "cell_type": "code",
   "execution_count": null,
   "metadata": {},
   "outputs": [],
   "source": [
    "class CustomForest:\n",
    "    def __init__(self, x, y):\n",
    "        self.trained = False\n",
    "        self.forest = RandomForestClassifier(n_estimators=10, max_depth=10)\n",
    "\n",
    "        xTrain, xTest, yTrain, yTest = train_test_split(x, y, test_size=0.2, random_state=1)\n",
    "        xTrain, xVal, yTrain, yVal = train_test_split(xTrain, yTrain, test_size=0.25, random_state=2)\n",
    "\n",
    "        self.x = x\n",
    "        self.y = y       \n",
    "\n",
    "        self.xTrain = xTrain\n",
    "        self.yTrain = yTrain\n",
    "        \n",
    "        self.xTest = xTest\n",
    "        self.yTest = yTest\n",
    "\n",
    "        self.xVal = xVal\n",
    "        self.yVal = yVal\n",
    "    \n",
    "    def Train(self):\n",
    "        self.forest = self.forest.fit(self.xTrain, self.yTrain.values.ravel())\n",
    "        self.trained = True\n",
    "\n",
    "    def PrintResults(self):\n",
    "        if (self.Trained)\n",
    "            train_error = np.round(self.forest.score(self.xTrain, self.yTrain), 2)\n",
    "            test_error = np.round(self.forest.score(self.xTest, self.yTest), 2)\n",
    "\n",
    "            print(\"Training Set Mean Accuracy = \" + str(train_error))\n",
    "            print(\"Test Set Mean Accuracy = \" + str(test_error))\n",
    "\n",
    "            print(\"\\n Feature Importance:\")\n",
    "            # Get numerical feature importances\n",
    "            importances = list(self.forest.feature_importances_)\n",
    "            # List of tuples with variable and importance\n",
    "            feature_importances = [(feature, round(importance, 2)) for feature, importance in zip(self.x, importances)]\n",
    "            # Sort the feature importances by most important first\n",
    "            feature_importances = sorted(feature_importances, key = lambda x: x[1], reverse = True)\n",
    "            # Print out the feature and importances \n",
    "            [print('Feature: {:20} Importance: {}'.format(*pair)) for pair in feature_importances]\n",
    "        else:\n",
    "            print(\"Forest not trained yet\")\n",
    "    \n"
   ]
  },
  {
   "cell_type": "code",
   "execution_count": null,
   "metadata": {},
   "outputs": [],
   "source": [
    "# get buy / sell / win / lose x and y"
   ]
  },
  {
   "cell_type": "code",
   "execution_count": null,
   "metadata": {},
   "outputs": [],
   "source": [
    "buyWinForest = CustomForest(buyWinX, buyWinY)\n",
    "buyLoseForest = CustomForest(buyLoseX, buyLoseY)\n",
    "\n",
    "sellWinForest = CustomForest(sellWinX, sellWinY)\n",
    "sellLoseForest = CustomForest(sellLoseX, sellLoseY)\n",
    "\n",
    "buyWinForest.Train()\n",
    "buyLoseForest.Train()\n",
    "\n",
    "sellWinForest.Train()\n",
    "sellLoseForest.Train()\n",
    "\n",
    "buyWinForest.PrintResults()\n",
    "buyLoseForest.PrintResults()\n",
    "\n",
    "sellWinForest.PrintResults()\n",
    "sellLoseForest.PrintResults()"
   ]
  }
 ],
 "metadata": {
  "language_info": {
   "name": "python"
  },
  "orig_nbformat": 4
 },
 "nbformat": 4,
 "nbformat_minor": 2
}
