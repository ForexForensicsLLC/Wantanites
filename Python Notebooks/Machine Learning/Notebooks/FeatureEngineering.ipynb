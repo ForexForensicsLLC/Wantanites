{
 "cells": [
  {
   "cell_type": "code",
   "execution_count": null,
   "metadata": {},
   "outputs": [],
   "source": [
    "from google.colab import files\n",
    "\n",
    "import numpy as np\n",
    "import pandas as pd\n",
    "\n",
    "from sklearn.model_selection import train_test_split\n",
    "from sklearn.ensemble import RandomForestClassifier\n",
    "\n",
    "import matplotlib.pyplot as plt\n",
    "\n",
    "pd.options.mode.chained_assignment = None"
   ]
  },
  {
   "cell_type": "code",
   "execution_count": null,
   "metadata": {},
   "outputs": [],
   "source": [
    "# upload file and read it in\n",
    "dataset = files.upload()\n",
    "df = pd.read_csv('records.csv')"
   ]
  },
  {
   "cell_type": "code",
   "execution_count": null,
   "metadata": {},
   "outputs": [],
   "source": [
    "# do data manipulation.\n",
    "# turn EntryTime into day of week, turn NewsImpact into 4 seperate columns, outcome into bit"
   ]
  },
  {
   "cell_type": "code",
   "execution_count": null,
   "metadata": {},
   "outputs": [],
   "source": [
    "featureName = df.columns\n",
    "featuresToExclude= ['time', 'TomorrowsChange']\n",
    "\n",
    "labels = df[['TomorrowsChange']]\n",
    "labels.loc[labels['TomorrowsChange'] == 'Increase', 'TomorrowsChange'] = 1\n",
    "labels.loc[labels['TomorrowsChange'] == 'Decrease', 'TomorrowsChange'] = 0\n",
    "labels = labels.astype(int)\n",
    "\n",
    "features = df.drop(featuresToExclude, axis=1)\n",
    "features = pd.get_dummies(features)"
   ]
  }
 ],
 "metadata": {
  "language_info": {
   "name": "python"
  },
  "orig_nbformat": 4
 },
 "nbformat": 4,
 "nbformat_minor": 2
}
