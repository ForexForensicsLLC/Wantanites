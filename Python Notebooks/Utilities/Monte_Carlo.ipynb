{
  "nbformat": 4,
  "nbformat_minor": 0,
  "metadata": {
    "colab": {
      "provenance": []
    },
    "kernelspec": {
      "name": "python3",
      "display_name": "Python 3"
    },
    "language_info": {
      "name": "python"
    }
  },
  "cells": [
    {
      "cell_type": "code",
      "metadata": {
        "id": "xpg7jgric5Zr"
      },
      "source": [
        "import numpy as np\n",
        "import pandas as pd\n",
        "import math\n",
        "from scipy.stats import bernoulli, truncnorm\n",
        "import matplotlib.pyplot as plt\n",
        "import random"
      ],
      "execution_count": null,
      "outputs": []
    },
    {
      "cell_type": "code",
      "metadata": {
        "id": "WRJYmhQ9Xx5g",
        "colab": {
          "base_uri": "https://localhost:8080/"
        },
        "outputId": "34bf70c6-077e-4132-8115-58f6b7b2210c"
      },
      "source": [
        "RR_array = np.array([-1, \n",
        "6.5, \n",
        "-1, \n",
        "-1, \n",
        "-1, \n",
        "-1, \n",
        "31.65, \n",
        "-1, \n",
        "6.5, \n",
        "-1, \n",
        "-1, \n",
        "6.5, \n",
        "-1, \n",
        "-1, \n",
        "-1, \n",
        "-1, \n",
        "-1, \n",
        "19.93, \n",
        "-1, \n",
        "-1, \n",
        "-1, \n",
        "-1, \n",
        "-1, \n",
        "-1, \n",
        "-1, \n",
        "6.5, \n",
        "-1, \n",
        "-1, \n",
        "-1, \n",
        "-1, \n",
        "-1, \n",
        "-1, \n",
        "6.5, \n",
        "-1, \n",
        "-1, \n",
        "-1, \n",
        "-1, \n",
        "-1, \n",
        "-1, \n",
        "-1, \n",
        "-1, \n",
        "-1, \n",
        "26.4, \n",
        "-1, \n",
        "-1, \n",
        "-1, \n",
        "-1, \n",
        "-1, \n",
        "63.76, \n",
        "-1, \n",
        "-1, \n",
        "-1, \n",
        "-1, \n",
        "-1, \n",
        "-1, \n",
        "26.5, \n",
        "-1, \n",
        "-1])\n",
        "\n",
        "partial_one_RR = 6.5\n",
        "\n",
        "wins_array = RR_array[RR_array >= partial_one_RR]\n",
        "n_simulations = 1000\n",
        "n_trades = len(RR_array)\n",
        "\n",
        "more_than_partial_one_percent = (wins_array > partial_one_RR).sum() / len(wins_array)\n",
        "rr_above_first_partial_high = round(np.max(wins_array))\n",
        "rr_below_first_partial_low = round(np.min(wins_array[wins_array > partial_one_RR]))\n",
        "\n",
        "win_rate = (RR_array >= partial_one_RR).sum() / len(RR_array)"
      ],
      "execution_count": null,
      "outputs": [
        {
          "output_type": "stream",
          "name": "stdout",
          "text": [
            "64 20\n"
          ]
        }
      ]
    },
    {
      "cell_type": "code",
      "source": [
        "def run_simulations():\n",
        "  RR_achieved = np.array([])\n",
        "  for i in range(n_simulations):\n",
        "    # array of random wins and loses based on win rate\n",
        "    wins_losses = bernoulli.rvs(win_rate, size=n_trades) \n",
        "\n",
        "    # total losses\n",
        "    total_loss_rr = (wins_losses == 0).sum() * -1\n",
        "\n",
        "    # array of random only partial ones and more than partial ones\n",
        "    partial_one_close = bernoulli.rvs(more_than_partial_one_percent, size=(wins_losses == 1).sum())\n",
        "\n",
        "    # total RR from only partial ones\n",
        "    only_partial_one_RR = (partial_one_close == 0).sum() * partial_one_RR\n",
        "\n",
        "    # total RR from more than partial ones\n",
        "    greater_than_partial_one_RR = 0\n",
        "    for x in range(0, partial_one_close.sum()):\n",
        "      # pick a random number between highest and lowest RR achieved above the first partial\n",
        "      greater_than_partial_one_RR = random.randint(rr_below_first_partial_low, rr_above_first_partial_high)\n",
        "\n",
        "    RR_achieved = np.append(RR_achieved, total_loss_rr + only_partial_one_RR + greater_than_partial_one_RR)\n",
        "  \n",
        "  return RR_achieved"
      ],
      "metadata": {
        "id": "DFfZQBUeZArp"
      },
      "execution_count": null,
      "outputs": []
    },
    {
      "cell_type": "code",
      "source": [
        "simulation_RRs = np.zeros((n_simulations,))\n",
        "epochs = 5\n",
        "for e in range(0, epochs):\n",
        "  simulation_RR = run_simulations()\n",
        "  simulation_RRs = simulation_RRs + simulation_RR\n",
        "  fig, ax = plt.subplots(1)\n",
        "  plt.title(f'Simulation {e + 1}')\n",
        "  ax.hist(simulation_RR)\n",
        "\n",
        "simulation_RRs = simulation_RRs / epochs"
      ],
      "metadata": {
        "colab": {
          "base_uri": "https://localhost:8080/",
          "height": 1000
        },
        "id": "Kswihkb9Zmko",
        "outputId": "348154f8-addc-4dcb-f429-68a422d1f573"
      },
      "execution_count": null,
      "outputs": [
        {
          "output_type": "display_data",
          "data": {
            "text/plain": [
              "<Figure size 432x288 with 1 Axes>"
            ],
            "image/png": "[encoded data removed]"
          },
          "metadata": {
            "needs_background": "light"
          }
        },
        {
          "output_type": "display_data",
          "data": {
            "text/plain": [
              "<Figure size 432x288 with 1 Axes>"
            ],
            "image/png": "[encoded data removed]"
          },
          "metadata": {
            "needs_background": "light"
          }
        },
        {
          "output_type": "display_data",
          "data": {
            "text/plain": [
              "<Figure size 432x288 with 1 Axes>"
            ],
            "image/png": "[encoded data removed]"
          },
          "metadata": {
            "needs_background": "light"
          }
        },
        {
          "output_type": "display_data",
          "data": {
            "text/plain": [
              "<Figure size 432x288 with 1 Axes>"
            ],
            "image/png": "[encoded data removed]"
          },
          "metadata": {
            "needs_background": "light"
          }
        },
        {
          "output_type": "display_data",
          "data": {
            "text/plain": [
              "<Figure size 432x288 with 1 Axes>"
            ],
            "image/png": "[encoded data removed]"
          },
          "metadata": {
            "needs_background": "light"
          }
        }
      ]
    },
    {
      "cell_type": "code",
      "metadata": {
        "colab": {
          "base_uri": "https://localhost:8080/",
          "height": 350
        },
        "id": "9WpUM-DhYTlF",
        "outputId": "c305f43b-0af2-45ca-c1e9-d8b0917d751e"
      },
      "source": [
        "fig, ax = plt.subplots(1)\n",
        "plt.title(f'Averaged Simulations')\n",
        "ax.hist(simulation_RRs)"
      ],
      "execution_count": null,
      "outputs": [
        {
          "output_type": "execute_result",
          "data": {
            "text/plain": [
              "(array([  7.,  21.,  82., 196., 290., 222., 122.,  45.,  10.,   5.]),\n",
              " array([-3.3 ,  2.84,  8.98, 15.12, 21.26, 27.4 , 33.54, 39.68, 45.82,\n",
              "        51.96, 58.1 ]),\n",
              " <a list of 10 Patch objects>)"
            ]
          },
          "metadata": {},
          "execution_count": 61
        },
        {
          "output_type": "display_data",
          "data": {
            "text/plain": [
              "<Figure size 432x288 with 1 Axes>"
            ],
            "image/png": "[encoded data removed]"
          },
          "metadata": {
            "needs_background": "light"
          }
        }
      ]
    },
    {
      "cell_type": "code",
      "metadata": {
        "colab": {
          "base_uri": "https://localhost:8080/"
        },
        "id": "XuJpTCJERbJW",
        "outputId": "c0f5b446-4ff2-4af7-b316-301027e68feb"
      },
      "source": [
        "print(f\"\"\"\n",
        "For {epochs} epochs of {n_simulations} simulations of {n_trades} Trades: \n",
        "Average RR: {np.average(simulation_RRs)}\n",
        "Minimum RR: {np.min(simulation_RRs)}\n",
        "Maximum RR: {np.max(simulation_RRs)}\n",
        "1 STD (68%) Low: {np.average(simulation_RRs) - np.std(simulation_RRs)}\n",
        "1 STD (68%) High: {np.average(simulation_RRs) + np.std(simulation_RRs)}\n",
        "2 STD (95%) Low: {np.average(simulation_RRs) - (2 * np.std(simulation_RRs))}\n",
        "2 STD (95%) High: {np.average(simulation_RRs) + (2 * np.std(simulation_RRs))}\n",
        "\"\"\")"
      ],
      "execution_count": null,
      "outputs": [
        {
          "output_type": "stream",
          "name": "stdout",
          "text": [
            "\n",
            "For 5 epochs of 1000 simulations of 58 Trades: \n",
            "Average RR: 25.6635\n",
            "Minimum RR: -3.3\n",
            "Maximum RR: 58.1\n",
            "1 STD (68%) Low: 16.777444758780753\n",
            "1 STD (68%) High: 34.549555241219245\n",
            "2 STD (95%) Low: 7.89138951756151\n",
            "2 STD (95%) High: 43.43561048243849\n",
            "\n"
          ]
        }
      ]
    },
    {
      "cell_type": "code",
      "metadata": {
        "id": "sWE4A6EmRltN"
      },
      "source": [],
      "execution_count": null,
      "outputs": []
    }
  ]
}