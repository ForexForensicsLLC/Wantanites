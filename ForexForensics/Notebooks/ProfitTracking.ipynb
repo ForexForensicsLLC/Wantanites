{
  "cells": [
    {
      "cell_type": "code",
      "execution_count": 15,
      "metadata": {
        "id": "3xyBK9zfgWPq"
      },
      "outputs": [],
      "source": [
        "from google.colab import files\n",
        "\n",
        "from scipy import optimize\n",
        "import matplotlib.pyplot as plt\n",
        "import numpy as np\n",
        "import pandas as pd\n",
        "\n",
        "pd.set_option('display.max_rows', 500)"
      ]
    },
    {
      "cell_type": "code",
      "execution_count": 2,
      "metadata": {
        "colab": {
          "base_uri": "https://localhost:8080/",
          "height": 73
        },
        "id": "J4T1QaFRgWPu",
        "outputId": "7dfb425c-8bd4-4cb6-a980-1bdf6bd13671"
      },
      "outputs": [
        {
          "output_type": "display_data",
          "data": {
            "text/plain": [
              "<IPython.core.display.HTML object>"
            ],
            "text/html": [
              "\n",
              "     <input type=\"file\" id=\"files-bdc8bb27-3563-47ca-8c64-4e919c5cd285\" name=\"files[]\" multiple disabled\n",
              "        style=\"border:none\" />\n",
              "     <output id=\"result-bdc8bb27-3563-47ca-8c64-4e919c5cd285\">\n",
              "      Upload widget is only available when the cell has been executed in the\n",
              "      current browser session. Please rerun this cell to enable.\n",
              "      </output>\n",
              "      <script>// Copyright 2017 Google LLC\n",
              "//\n",
              "// Licensed under the Apache License, Version 2.0 (the \"License\");\n",
              "// you may not use this file except in compliance with the License.\n",
              "// You may obtain a copy of the License at\n",
              "//\n",
              "//      http://www.apache.org/licenses/LICENSE-2.0\n",
              "//\n",
              "// Unless required by applicable law or agreed to in writing, software\n",
              "// distributed under the License is distributed on an \"AS IS\" BASIS,\n",
              "// WITHOUT WARRANTIES OR CONDITIONS OF ANY KIND, either express or implied.\n",
              "// See the License for the specific language governing permissions and\n",
              "// limitations under the License.\n",
              "\n",
              "/**\n",
              " * @fileoverview Helpers for google.colab Python module.\n",
              " */\n",
              "(function(scope) {\n",
              "function span(text, styleAttributes = {}) {\n",
              "  const element = document.createElement('span');\n",
              "  element.textContent = text;\n",
              "  for (const key of Object.keys(styleAttributes)) {\n",
              "    element.style[key] = styleAttributes[key];\n",
              "  }\n",
              "  return element;\n",
              "}\n",
              "\n",
              "// Max number of bytes which will be uploaded at a time.\n",
              "const MAX_PAYLOAD_SIZE = 100 * 1024;\n",
              "\n",
              "function _uploadFiles(inputId, outputId) {\n",
              "  const steps = uploadFilesStep(inputId, outputId);\n",
              "  const outputElement = document.getElementById(outputId);\n",
              "  // Cache steps on the outputElement to make it available for the next call\n",
              "  // to uploadFilesContinue from Python.\n",
              "  outputElement.steps = steps;\n",
              "\n",
              "  return _uploadFilesContinue(outputId);\n",
              "}\n",
              "\n",
              "// This is roughly an async generator (not supported in the browser yet),\n",
              "// where there are multiple asynchronous steps and the Python side is going\n",
              "// to poll for completion of each step.\n",
              "// This uses a Promise to block the python side on completion of each step,\n",
              "// then passes the result of the previous step as the input to the next step.\n",
              "function _uploadFilesContinue(outputId) {\n",
              "  const outputElement = document.getElementById(outputId);\n",
              "  const steps = outputElement.steps;\n",
              "\n",
              "  const next = steps.next(outputElement.lastPromiseValue);\n",
              "  return Promise.resolve(next.value.promise).then((value) => {\n",
              "    // Cache the last promise value to make it available to the next\n",
              "    // step of the generator.\n",
              "    outputElement.lastPromiseValue = value;\n",
              "    return next.value.response;\n",
              "  });\n",
              "}\n",
              "\n",
              "/**\n",
              " * Generator function which is called between each async step of the upload\n",
              " * process.\n",
              " * @param {string} inputId Element ID of the input file picker element.\n",
              " * @param {string} outputId Element ID of the output display.\n",
              " * @return {!Iterable<!Object>} Iterable of next steps.\n",
              " */\n",
              "function* uploadFilesStep(inputId, outputId) {\n",
              "  const inputElement = document.getElementById(inputId);\n",
              "  inputElement.disabled = false;\n",
              "\n",
              "  const outputElement = document.getElementById(outputId);\n",
              "  outputElement.innerHTML = '';\n",
              "\n",
              "  const pickedPromise = new Promise((resolve) => {\n",
              "    inputElement.addEventListener('change', (e) => {\n",
              "      resolve(e.target.files);\n",
              "    });\n",
              "  });\n",
              "\n",
              "  const cancel = document.createElement('button');\n",
              "  inputElement.parentElement.appendChild(cancel);\n",
              "  cancel.textContent = 'Cancel upload';\n",
              "  const cancelPromise = new Promise((resolve) => {\n",
              "    cancel.onclick = () => {\n",
              "      resolve(null);\n",
              "    };\n",
              "  });\n",
              "\n",
              "  // Wait for the user to pick the files.\n",
              "  const files = yield {\n",
              "    promise: Promise.race([pickedPromise, cancelPromise]),\n",
              "    response: {\n",
              "      action: 'starting',\n",
              "    }\n",
              "  };\n",
              "\n",
              "  cancel.remove();\n",
              "\n",
              "  // Disable the input element since further picks are not allowed.\n",
              "  inputElement.disabled = true;\n",
              "\n",
              "  if (!files) {\n",
              "    return {\n",
              "      response: {\n",
              "        action: 'complete',\n",
              "      }\n",
              "    };\n",
              "  }\n",
              "\n",
              "  for (const file of files) {\n",
              "    const li = document.createElement('li');\n",
              "    li.append(span(file.name, {fontWeight: 'bold'}));\n",
              "    li.append(span(\n",
              "        `(${file.type || 'n/a'}) - ${file.size} bytes, ` +\n",
              "        `last modified: ${\n",
              "            file.lastModifiedDate ? file.lastModifiedDate.toLocaleDateString() :\n",
              "                                    'n/a'} - `));\n",
              "    const percent = span('0% done');\n",
              "    li.appendChild(percent);\n",
              "\n",
              "    outputElement.appendChild(li);\n",
              "\n",
              "    const fileDataPromise = new Promise((resolve) => {\n",
              "      const reader = new FileReader();\n",
              "      reader.onload = (e) => {\n",
              "        resolve(e.target.result);\n",
              "      };\n",
              "      reader.readAsArrayBuffer(file);\n",
              "    });\n",
              "    // Wait for the data to be ready.\n",
              "    let fileData = yield {\n",
              "      promise: fileDataPromise,\n",
              "      response: {\n",
              "        action: 'continue',\n",
              "      }\n",
              "    };\n",
              "\n",
              "    // Use a chunked sending to avoid message size limits. See b/62115660.\n",
              "    let position = 0;\n",
              "    do {\n",
              "      const length = Math.min(fileData.byteLength - position, MAX_PAYLOAD_SIZE);\n",
              "      const chunk = new Uint8Array(fileData, position, length);\n",
              "      position += length;\n",
              "\n",
              "      const base64 = btoa(String.fromCharCode.apply(null, chunk));\n",
              "      yield {\n",
              "        response: {\n",
              "          action: 'append',\n",
              "          file: file.name,\n",
              "          data: base64,\n",
              "        },\n",
              "      };\n",
              "\n",
              "      let percentDone = fileData.byteLength === 0 ?\n",
              "          100 :\n",
              "          Math.round((position / fileData.byteLength) * 100);\n",
              "      percent.textContent = `${percentDone}% done`;\n",
              "\n",
              "    } while (position < fileData.byteLength);\n",
              "  }\n",
              "\n",
              "  // All done.\n",
              "  yield {\n",
              "    response: {\n",
              "      action: 'complete',\n",
              "    }\n",
              "  };\n",
              "}\n",
              "\n",
              "scope.google = scope.google || {};\n",
              "scope.google.colab = scope.google.colab || {};\n",
              "scope.google.colab._files = {\n",
              "  _uploadFiles,\n",
              "  _uploadFilesContinue,\n",
              "};\n",
              "})(self);\n",
              "</script> "
            ]
          },
          "metadata": {}
        },
        {
          "output_type": "stream",
          "name": "stdout",
          "text": [
            "Saving Exits.csv to Exits.csv\n"
          ]
        }
      ],
      "source": [
        "# upload file and read it in\n",
        "dataset = files.upload()\n",
        "df = pd.read_csv('Exits.csv', delimiter=',', index_col=False)"
      ]
    },
    {
      "cell_type": "code",
      "execution_count": 19,
      "metadata": {
        "id": "jwM4KhyugWPv",
        "colab": {
          "base_uri": "https://localhost:8080/"
        },
        "outputId": "2ecbf2f4-7e49-4aa1-e9bc-fddf199d1174"
      },
      "outputs": [
        {
          "output_type": "stream",
          "name": "stdout",
          "text": [
            "(5432,)\n",
            "(161,)\n"
          ]
        }
      ],
      "source": [
        "potentialRRs = np.around(df[\"Potential RR\"].to_numpy(), 1)\n",
        "potentialRRs = np.unique(potentialRRs)\n",
        "\n",
        "totalPotentialRR = np.sum(potentialRRs)\n",
        "largestRR = np.max(potentialRRs)"
      ]
    },
    {
      "cell_type": "code",
      "execution_count": 20,
      "metadata": {
        "id": "W6TI2bmOgWPw"
      },
      "outputs": [],
      "source": [
        "# calculate RR earned based on partials\n",
        "def earned_rr(partials):\n",
        "    p1 = partials[0]\n",
        "    p1_percent = partials[1]\n",
        "    p2 = partials[2]\n",
        "    p2_percent = partials[3]\n",
        "\n",
        "    penality = -10000\n",
        "    if p1_percent + p2_percent > 1:\n",
        "      return penality\n",
        "\n",
        "    # if p1 > p2:\n",
        "    #   return penality\n",
        "    \n",
        "    earned_rr = 0\n",
        "    \n",
        "    for rr in potentialRRs:\n",
        "        if rr < p1: \n",
        "            earned_rr -= 1\n",
        "        elif (rr >= p1 and rr <= p2) or (p2_percent == 0):\n",
        "            earned_rr += p1*p1_percent\n",
        "        elif rr >= p2:\n",
        "            earned_rr += p2*p1_percent*p2_percent\n",
        "    \n",
        "    return earned_rr\n",
        "\n",
        "# the closer we are to the toal RR possible, the better\n",
        "def earned_rr_loss(partials):   \n",
        "    return totalPotentialRR - earned_rr(partials)"
      ]
    },
    {
      "cell_type": "code",
      "source": [
        "columns = ['Earned RR', 'First Partial Value', 'First Partial %', 'Second Partial Value', 'Second Partial %']\n",
        "rrs = pd.DataFrame(columns=columns)"
      ],
      "metadata": {
        "id": "1ee1Ctl1s3cG"
      },
      "execution_count": 21,
      "outputs": []
    },
    {
      "cell_type": "code",
      "execution_count": 22,
      "metadata": {
        "id": "_x0ELvVwgWPy"
      },
      "outputs": [],
      "source": [
        "# limit partial percentages to equal 1 since we can't take off more than 100% of a position\n",
        "cons = [\n",
        "    {'type': 'eq', 'fun': lambda x: x[1] + x[3] - 1 },\n",
        "    {'type': 'ineq', 'fun': lambda x: x[0] - x[2] }\n",
        "]"
      ]
    },
    {
      "cell_type": "code",
      "execution_count": 23,
      "metadata": {
        "id": "smbKIh6-gWPz"
      },
      "outputs": [],
      "source": [
        "%%capture\n",
        "\n",
        "rrLineSpace = np.linspace(0, largestRR, 10, dtype=int)\n",
        "for partialOne in potentialRRs:\n",
        "  for partialTwo in potentialRRs:\n",
        "    optimized = optimize.minimize(earned_rr_loss, [partialOne, 0.5, partialTwo, 0.5], \n",
        "                            bounds=((0, largestRR), (0, 1.), (0, largestRR), (0, 1.)), method='Nelder-Mead', constraints=cons)\n",
        "    \n",
        "    rrs = rrs.append(\n",
        "    {\n",
        "      'Earned RR': earned_rr(optimized.x), \n",
        "      'First Partial Value': optimized.x[0], \n",
        "      'First Partial %': optimized.x[1], \n",
        "      'Second Partial Value': optimized.x[2], \n",
        "      'Second Partial %': optimized.x[3]\n",
        "      }, ignore_index=True)"
      ]
    },
    {
      "cell_type": "code",
      "source": [
        "# values may differ slighly per run based on how well the optimizer finds a minimum but it shouldn't matter if you round \n",
        "max_rr_row = rrs.iloc[rrs['Earned RR'].idxmax()]\n",
        "print(f'''The most \"Total RR\" achieved is {max_rr_row['Earned RR']:.3f} by takning {max_rr_row['First Partial %']:.2f}% off at {max_rr_row['First Partial Value']:.3f}\n",
        "      RR and then {max_rr_row['Second Partial %']:.2f}% off at {max_rr_row['Second Partial Value']:.3f} RR''')"
      ],
      "metadata": {
        "colab": {
          "base_uri": "https://localhost:8080/"
        },
        "id": "Z0Ruo8O7q5gs",
        "outputId": "af162aa7-1525-41cd-957e-0da82411fcbd"
      },
      "execution_count": 24,
      "outputs": [
        {
          "output_type": "stream",
          "name": "stdout",
          "text": [
            "The most \"Total RR\" achieved is 544.600 by takning 1.00% off at 7.400\n",
            "      RR and then 0.00% off at 17.236 RR\n"
          ]
        }
      ]
    },
    {
      "cell_type": "code",
      "source": [],
      "metadata": {
        "id": "HjjlGn4FuElE"
      },
      "execution_count": null,
      "outputs": []
    }
  ],
  "metadata": {
    "language_info": {
      "name": "python"
    },
    "orig_nbformat": 4,
    "colab": {
      "provenance": [],
      "gpuType": "T4"
    },
    "kernelspec": {
      "name": "python3",
      "display_name": "Python 3"
    },
    "gpuClass": "standard",
    "accelerator": "GPU"
  },
  "nbformat": 4,
  "nbformat_minor": 0
}